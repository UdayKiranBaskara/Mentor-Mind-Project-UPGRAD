{
  "nbformat": 4,
  "nbformat_minor": 0,
  "metadata": {
    "colab": {
      "provenance": []
    },
    "kernelspec": {
      "name": "python3",
      "display_name": "Python 3"
    },
    "language_info": {
      "name": "python"
    }
  },
  "cells": [
    {
      "cell_type": "code",
      "execution_count": null,
      "metadata": {
        "id": "RR55lh2-fqBZ"
      },
      "outputs": [],
      "source": [
        "import pandas as pd\n",
        "from sklearn.preprocessing import MinMaxScaler, StandardScaler\n",
        "import numpy as np"
      ]
    },
    {
      "cell_type": "markdown",
      "source": [
        "1. **Load Data**"
      ],
      "metadata": {
        "id": "xgdFF3mGqMZB"
      }
    },
    {
      "cell_type": "code",
      "metadata": {
        "colab": {
          "base_uri": "https://localhost:8080/"
        },
        "id": "b2ad3fbf",
        "outputId": "a424cc0a-97af-4496-bf02-bfc0067ab13f"
      },
      "source": [
        "from google.colab import drive\n",
        "drive.mount('/content/drive')"
      ],
      "execution_count": null,
      "outputs": [
        {
          "output_type": "stream",
          "name": "stdout",
          "text": [
            "Drive already mounted at /content/drive; to attempt to forcibly remount, call drive.mount(\"/content/drive\", force_remount=True).\n"
          ]
        }
      ]
    },
    {
      "cell_type": "code",
      "metadata": {
        "colab": {
          "base_uri": "https://localhost:8080/",
          "height": 423
        },
        "id": "737a2070",
        "outputId": "9d34667c-efc2-4e08-dc1f-1ede7f1f0cd0"
      },
      "source": [
        "file_path = '/content/drive/MyDrive/Datasets/Dataset_Uber_Traffic.csv'\n",
        "\n",
        "df_raw = pd.read_csv(file_path)\n",
        "df_raw"
      ],
      "execution_count": null,
      "outputs": [
        {
          "output_type": "execute_result",
          "data": {
            "text/plain": [
              "             DateTime  Junction  Vehicles           ID\n",
              "0       01/11/15 0:00         1        15  20151101001\n",
              "1       01/11/15 1:00         1        13  20151101011\n",
              "2       01/11/15 2:00         1        10  20151101021\n",
              "3       01/11/15 3:00         1         7  20151101031\n",
              "4       01/11/15 4:00         1         9  20151101041\n",
              "...               ...       ...       ...          ...\n",
              "48115  30/06/17 19:00         4        11  20170630194\n",
              "48116  30/06/17 20:00         4        30  20170630204\n",
              "48117  30/06/17 21:00         4        16  20170630214\n",
              "48118  30/06/17 22:00         4        22  20170630224\n",
              "48119  30/06/17 23:00         4        12  20170630234\n",
              "\n",
              "[48120 rows x 4 columns]"
            ],
            "text/html": [
              "\n",
              "  <div id=\"df-90db6f80-9b33-4d84-9f3a-9cee5034f31b\" class=\"colab-df-container\">\n",
              "    <div>\n",
              "<style scoped>\n",
              "    .dataframe tbody tr th:only-of-type {\n",
              "        vertical-align: middle;\n",
              "    }\n",
              "\n",
              "    .dataframe tbody tr th {\n",
              "        vertical-align: top;\n",
              "    }\n",
              "\n",
              "    .dataframe thead th {\n",
              "        text-align: right;\n",
              "    }\n",
              "</style>\n",
              "<table border=\"1\" class=\"dataframe\">\n",
              "  <thead>\n",
              "    <tr style=\"text-align: right;\">\n",
              "      <th></th>\n",
              "      <th>DateTime</th>\n",
              "      <th>Junction</th>\n",
              "      <th>Vehicles</th>\n",
              "      <th>ID</th>\n",
              "    </tr>\n",
              "  </thead>\n",
              "  <tbody>\n",
              "    <tr>\n",
              "      <th>0</th>\n",
              "      <td>01/11/15 0:00</td>\n",
              "      <td>1</td>\n",
              "      <td>15</td>\n",
              "      <td>20151101001</td>\n",
              "    </tr>\n",
              "    <tr>\n",
              "      <th>1</th>\n",
              "      <td>01/11/15 1:00</td>\n",
              "      <td>1</td>\n",
              "      <td>13</td>\n",
              "      <td>20151101011</td>\n",
              "    </tr>\n",
              "    <tr>\n",
              "      <th>2</th>\n",
              "      <td>01/11/15 2:00</td>\n",
              "      <td>1</td>\n",
              "      <td>10</td>\n",
              "      <td>20151101021</td>\n",
              "    </tr>\n",
              "    <tr>\n",
              "      <th>3</th>\n",
              "      <td>01/11/15 3:00</td>\n",
              "      <td>1</td>\n",
              "      <td>7</td>\n",
              "      <td>20151101031</td>\n",
              "    </tr>\n",
              "    <tr>\n",
              "      <th>4</th>\n",
              "      <td>01/11/15 4:00</td>\n",
              "      <td>1</td>\n",
              "      <td>9</td>\n",
              "      <td>20151101041</td>\n",
              "    </tr>\n",
              "    <tr>\n",
              "      <th>...</th>\n",
              "      <td>...</td>\n",
              "      <td>...</td>\n",
              "      <td>...</td>\n",
              "      <td>...</td>\n",
              "    </tr>\n",
              "    <tr>\n",
              "      <th>48115</th>\n",
              "      <td>30/06/17 19:00</td>\n",
              "      <td>4</td>\n",
              "      <td>11</td>\n",
              "      <td>20170630194</td>\n",
              "    </tr>\n",
              "    <tr>\n",
              "      <th>48116</th>\n",
              "      <td>30/06/17 20:00</td>\n",
              "      <td>4</td>\n",
              "      <td>30</td>\n",
              "      <td>20170630204</td>\n",
              "    </tr>\n",
              "    <tr>\n",
              "      <th>48117</th>\n",
              "      <td>30/06/17 21:00</td>\n",
              "      <td>4</td>\n",
              "      <td>16</td>\n",
              "      <td>20170630214</td>\n",
              "    </tr>\n",
              "    <tr>\n",
              "      <th>48118</th>\n",
              "      <td>30/06/17 22:00</td>\n",
              "      <td>4</td>\n",
              "      <td>22</td>\n",
              "      <td>20170630224</td>\n",
              "    </tr>\n",
              "    <tr>\n",
              "      <th>48119</th>\n",
              "      <td>30/06/17 23:00</td>\n",
              "      <td>4</td>\n",
              "      <td>12</td>\n",
              "      <td>20170630234</td>\n",
              "    </tr>\n",
              "  </tbody>\n",
              "</table>\n",
              "<p>48120 rows × 4 columns</p>\n",
              "</div>\n",
              "    <div class=\"colab-df-buttons\">\n",
              "\n",
              "  <div class=\"colab-df-container\">\n",
              "    <button class=\"colab-df-convert\" onclick=\"convertToInteractive('df-90db6f80-9b33-4d84-9f3a-9cee5034f31b')\"\n",
              "            title=\"Convert this dataframe to an interactive table.\"\n",
              "            style=\"display:none;\">\n",
              "\n",
              "  <svg xmlns=\"http://www.w3.org/2000/svg\" height=\"24px\" viewBox=\"0 -960 960 960\">\n",
              "    <path d=\"M120-120v-720h720v720H120Zm60-500h600v-160H180v160Zm220 220h160v-160H400v160Zm0 220h160v-160H400v160ZM180-400h160v-160H180v160Zm440 0h160v-160H620v160ZM180-180h160v-160H180v160Zm440 0h160v-160H620v160Z\"/>\n",
              "  </svg>\n",
              "    </button>\n",
              "\n",
              "  <style>\n",
              "    .colab-df-container {\n",
              "      display:flex;\n",
              "      gap: 12px;\n",
              "    }\n",
              "\n",
              "    .colab-df-convert {\n",
              "      background-color: #E8F0FE;\n",
              "      border: none;\n",
              "      border-radius: 50%;\n",
              "      cursor: pointer;\n",
              "      display: none;\n",
              "      fill: #1967D2;\n",
              "      height: 32px;\n",
              "      padding: 0 0 0 0;\n",
              "      width: 32px;\n",
              "    }\n",
              "\n",
              "    .colab-df-convert:hover {\n",
              "      background-color: #E2EBFA;\n",
              "      box-shadow: 0px 1px 2px rgba(60, 64, 67, 0.3), 0px 1px 3px 1px rgba(60, 64, 67, 0.15);\n",
              "      fill: #174EA6;\n",
              "    }\n",
              "\n",
              "    .colab-df-buttons div {\n",
              "      margin-bottom: 4px;\n",
              "    }\n",
              "\n",
              "    [theme=dark] .colab-df-convert {\n",
              "      background-color: #3B4455;\n",
              "      fill: #D2E3FC;\n",
              "    }\n",
              "\n",
              "    [theme=dark] .colab-df-convert:hover {\n",
              "      background-color: #434B5C;\n",
              "      box-shadow: 0px 1px 3px 1px rgba(0, 0, 0, 0.15);\n",
              "      filter: drop-shadow(0px 1px 2px rgba(0, 0, 0, 0.3));\n",
              "      fill: #FFFFFF;\n",
              "    }\n",
              "  </style>\n",
              "\n",
              "    <script>\n",
              "      const buttonEl =\n",
              "        document.querySelector('#df-90db6f80-9b33-4d84-9f3a-9cee5034f31b button.colab-df-convert');\n",
              "      buttonEl.style.display =\n",
              "        google.colab.kernel.accessAllowed ? 'block' : 'none';\n",
              "\n",
              "      async function convertToInteractive(key) {\n",
              "        const element = document.querySelector('#df-90db6f80-9b33-4d84-9f3a-9cee5034f31b');\n",
              "        const dataTable =\n",
              "          await google.colab.kernel.invokeFunction('convertToInteractive',\n",
              "                                                    [key], {});\n",
              "        if (!dataTable) return;\n",
              "\n",
              "        const docLinkHtml = 'Like what you see? Visit the ' +\n",
              "          '<a target=\"_blank\" href=https://colab.research.google.com/notebooks/data_table.ipynb>data table notebook</a>'\n",
              "          + ' to learn more about interactive tables.';\n",
              "        element.innerHTML = '';\n",
              "        dataTable['output_type'] = 'display_data';\n",
              "        await google.colab.output.renderOutput(dataTable, element);\n",
              "        const docLink = document.createElement('div');\n",
              "        docLink.innerHTML = docLinkHtml;\n",
              "        element.appendChild(docLink);\n",
              "      }\n",
              "    </script>\n",
              "  </div>\n",
              "\n",
              "\n",
              "    <div id=\"df-d9a30a7f-2ace-4c99-846f-e197ca50b1b3\">\n",
              "      <button class=\"colab-df-quickchart\" onclick=\"quickchart('df-d9a30a7f-2ace-4c99-846f-e197ca50b1b3')\"\n",
              "                title=\"Suggest charts\"\n",
              "                style=\"display:none;\">\n",
              "\n",
              "<svg xmlns=\"http://www.w3.org/2000/svg\" height=\"24px\"viewBox=\"0 0 24 24\"\n",
              "     width=\"24px\">\n",
              "    <g>\n",
              "        <path d=\"M19 3H5c-1.1 0-2 .9-2 2v14c0 1.1.9 2 2 2h14c1.1 0 2-.9 2-2V5c0-1.1-.9-2-2-2zM9 17H7v-7h2v7zm4 0h-2V7h2v10zm4 0h-2v-4h2v4z\"/>\n",
              "    </g>\n",
              "</svg>\n",
              "      </button>\n",
              "\n",
              "<style>\n",
              "  .colab-df-quickchart {\n",
              "      --bg-color: #E8F0FE;\n",
              "      --fill-color: #1967D2;\n",
              "      --hover-bg-color: #E2EBFA;\n",
              "      --hover-fill-color: #174EA6;\n",
              "      --disabled-fill-color: #AAA;\n",
              "      --disabled-bg-color: #DDD;\n",
              "  }\n",
              "\n",
              "  [theme=dark] .colab-df-quickchart {\n",
              "      --bg-color: #3B4455;\n",
              "      --fill-color: #D2E3FC;\n",
              "      --hover-bg-color: #434B5C;\n",
              "      --hover-fill-color: #FFFFFF;\n",
              "      --disabled-bg-color: #3B4455;\n",
              "      --disabled-fill-color: #666;\n",
              "  }\n",
              "\n",
              "  .colab-df-quickchart {\n",
              "    background-color: var(--bg-color);\n",
              "    border: none;\n",
              "    border-radius: 50%;\n",
              "    cursor: pointer;\n",
              "    display: none;\n",
              "    fill: var(--fill-color);\n",
              "    height: 32px;\n",
              "    padding: 0;\n",
              "    width: 32px;\n",
              "  }\n",
              "\n",
              "  .colab-df-quickchart:hover {\n",
              "    background-color: var(--hover-bg-color);\n",
              "    box-shadow: 0 1px 2px rgba(60, 64, 67, 0.3), 0 1px 3px 1px rgba(60, 64, 67, 0.15);\n",
              "    fill: var(--button-hover-fill-color);\n",
              "  }\n",
              "\n",
              "  .colab-df-quickchart-complete:disabled,\n",
              "  .colab-df-quickchart-complete:disabled:hover {\n",
              "    background-color: var(--disabled-bg-color);\n",
              "    fill: var(--disabled-fill-color);\n",
              "    box-shadow: none;\n",
              "  }\n",
              "\n",
              "  .colab-df-spinner {\n",
              "    border: 2px solid var(--fill-color);\n",
              "    border-color: transparent;\n",
              "    border-bottom-color: var(--fill-color);\n",
              "    animation:\n",
              "      spin 1s steps(1) infinite;\n",
              "  }\n",
              "\n",
              "  @keyframes spin {\n",
              "    0% {\n",
              "      border-color: transparent;\n",
              "      border-bottom-color: var(--fill-color);\n",
              "      border-left-color: var(--fill-color);\n",
              "    }\n",
              "    20% {\n",
              "      border-color: transparent;\n",
              "      border-left-color: var(--fill-color);\n",
              "      border-top-color: var(--fill-color);\n",
              "    }\n",
              "    30% {\n",
              "      border-color: transparent;\n",
              "      border-left-color: var(--fill-color);\n",
              "      border-top-color: var(--fill-color);\n",
              "      border-right-color: var(--fill-color);\n",
              "    }\n",
              "    40% {\n",
              "      border-color: transparent;\n",
              "      border-right-color: var(--fill-color);\n",
              "      border-top-color: var(--fill-color);\n",
              "    }\n",
              "    60% {\n",
              "      border-color: transparent;\n",
              "      border-right-color: var(--fill-color);\n",
              "    }\n",
              "    80% {\n",
              "      border-color: transparent;\n",
              "      border-right-color: var(--fill-color);\n",
              "      border-bottom-color: var(--fill-color);\n",
              "    }\n",
              "    90% {\n",
              "      border-color: transparent;\n",
              "      border-bottom-color: var(--fill-color);\n",
              "    }\n",
              "  }\n",
              "</style>\n",
              "\n",
              "      <script>\n",
              "        async function quickchart(key) {\n",
              "          const quickchartButtonEl =\n",
              "            document.querySelector('#' + key + ' button');\n",
              "          quickchartButtonEl.disabled = true;  // To prevent multiple clicks.\n",
              "          quickchartButtonEl.classList.add('colab-df-spinner');\n",
              "          try {\n",
              "            const charts = await google.colab.kernel.invokeFunction(\n",
              "                'suggestCharts', [key], {});\n",
              "          } catch (error) {\n",
              "            console.error('Error during call to suggestCharts:', error);\n",
              "          }\n",
              "          quickchartButtonEl.classList.remove('colab-df-spinner');\n",
              "          quickchartButtonEl.classList.add('colab-df-quickchart-complete');\n",
              "        }\n",
              "        (() => {\n",
              "          let quickchartButtonEl =\n",
              "            document.querySelector('#df-d9a30a7f-2ace-4c99-846f-e197ca50b1b3 button');\n",
              "          quickchartButtonEl.style.display =\n",
              "            google.colab.kernel.accessAllowed ? 'block' : 'none';\n",
              "        })();\n",
              "      </script>\n",
              "    </div>\n",
              "\n",
              "  <div id=\"id_7bf42c4f-59dd-4921-87a9-ac276c6833d3\">\n",
              "    <style>\n",
              "      .colab-df-generate {\n",
              "        background-color: #E8F0FE;\n",
              "        border: none;\n",
              "        border-radius: 50%;\n",
              "        cursor: pointer;\n",
              "        display: none;\n",
              "        fill: #1967D2;\n",
              "        height: 32px;\n",
              "        padding: 0 0 0 0;\n",
              "        width: 32px;\n",
              "      }\n",
              "\n",
              "      .colab-df-generate:hover {\n",
              "        background-color: #E2EBFA;\n",
              "        box-shadow: 0px 1px 2px rgba(60, 64, 67, 0.3), 0px 1px 3px 1px rgba(60, 64, 67, 0.15);\n",
              "        fill: #174EA6;\n",
              "      }\n",
              "\n",
              "      [theme=dark] .colab-df-generate {\n",
              "        background-color: #3B4455;\n",
              "        fill: #D2E3FC;\n",
              "      }\n",
              "\n",
              "      [theme=dark] .colab-df-generate:hover {\n",
              "        background-color: #434B5C;\n",
              "        box-shadow: 0px 1px 3px 1px rgba(0, 0, 0, 0.15);\n",
              "        filter: drop-shadow(0px 1px 2px rgba(0, 0, 0, 0.3));\n",
              "        fill: #FFFFFF;\n",
              "      }\n",
              "    </style>\n",
              "    <button class=\"colab-df-generate\" onclick=\"generateWithVariable('df_raw')\"\n",
              "            title=\"Generate code using this dataframe.\"\n",
              "            style=\"display:none;\">\n",
              "\n",
              "  <svg xmlns=\"http://www.w3.org/2000/svg\" height=\"24px\"viewBox=\"0 0 24 24\"\n",
              "       width=\"24px\">\n",
              "    <path d=\"M7,19H8.4L18.45,9,17,7.55,7,17.6ZM5,21V16.75L18.45,3.32a2,2,0,0,1,2.83,0l1.4,1.43a1.91,1.91,0,0,1,.58,1.4,1.91,1.91,0,0,1-.58,1.4L9.25,21ZM18.45,9,17,7.55Zm-12,3A5.31,5.31,0,0,0,4.9,8.1,5.31,5.31,0,0,0,1,6.5,5.31,5.31,0,0,0,4.9,4.9,5.31,5.31,0,0,0,6.5,1,5.31,5.31,0,0,0,8.1,4.9,5.31,5.31,0,0,0,12,6.5,5.46,5.46,0,0,0,6.5,12Z\"/>\n",
              "  </svg>\n",
              "    </button>\n",
              "    <script>\n",
              "      (() => {\n",
              "      const buttonEl =\n",
              "        document.querySelector('#id_7bf42c4f-59dd-4921-87a9-ac276c6833d3 button.colab-df-generate');\n",
              "      buttonEl.style.display =\n",
              "        google.colab.kernel.accessAllowed ? 'block' : 'none';\n",
              "\n",
              "      buttonEl.onclick = () => {\n",
              "        google.colab.notebook.generateWithVariable('df_raw');\n",
              "      }\n",
              "      })();\n",
              "    </script>\n",
              "  </div>\n",
              "\n",
              "    </div>\n",
              "  </div>\n"
            ],
            "application/vnd.google.colaboratory.intrinsic+json": {
              "type": "dataframe",
              "variable_name": "df_raw",
              "summary": "{\n  \"name\": \"df_raw\",\n  \"rows\": 48120,\n  \"fields\": [\n    {\n      \"column\": \"DateTime\",\n      \"properties\": {\n        \"dtype\": \"object\",\n        \"num_unique_values\": 14592,\n        \"samples\": [\n          \"13/05/16 20:00\",\n          \"03/11/16 20:00\",\n          \"08/12/15 19:00\"\n        ],\n        \"semantic_type\": \"\",\n        \"description\": \"\"\n      }\n    },\n    {\n      \"column\": \"Junction\",\n      \"properties\": {\n        \"dtype\": \"number\",\n        \"std\": 0,\n        \"min\": 1,\n        \"max\": 4,\n        \"num_unique_values\": 4,\n        \"samples\": [\n          2,\n          4,\n          1\n        ],\n        \"semantic_type\": \"\",\n        \"description\": \"\"\n      }\n    },\n    {\n      \"column\": \"Vehicles\",\n      \"properties\": {\n        \"dtype\": \"number\",\n        \"std\": 20,\n        \"min\": 1,\n        \"max\": 180,\n        \"num_unique_values\": 141,\n        \"samples\": [\n          73,\n          99,\n          38\n        ],\n        \"semantic_type\": \"\",\n        \"description\": \"\"\n      }\n    },\n    {\n      \"column\": \"ID\",\n      \"properties\": {\n        \"dtype\": \"number\",\n        \"std\": 5944853,\n        \"min\": 20151101001,\n        \"max\": 20170630234,\n        \"num_unique_values\": 48120,\n        \"samples\": [\n          20161223082,\n          20160828203,\n          20170424063\n        ],\n        \"semantic_type\": \"\",\n        \"description\": \"\"\n      }\n    }\n  ]\n}"
            }
          },
          "metadata": {},
          "execution_count": 3
        }
      ]
    },
    {
      "cell_type": "markdown",
      "source": [
        "**2. Clean the Data**"
      ],
      "metadata": {
        "id": "rEYJxLV-qaFA"
      }
    },
    {
      "cell_type": "code",
      "source": [
        "df_clean = df_raw.copy()"
      ],
      "metadata": {
        "id": "fL0nwP2-jdFa"
      },
      "execution_count": null,
      "outputs": []
    },
    {
      "cell_type": "code",
      "source": [
        "# Calculate the percentage of null values in each column\n",
        "null_percentage = (df_clean.isnull().sum() / len(df_clean)) * 100\n",
        "print(null_percentage)"
      ],
      "metadata": {
        "colab": {
          "base_uri": "https://localhost:8080/"
        },
        "id": "GV_j3O6inj-a",
        "outputId": "2ff1726f-862a-40df-bb50-502ac97cfc53"
      },
      "execution_count": null,
      "outputs": [
        {
          "output_type": "stream",
          "name": "stdout",
          "text": [
            "DateTime    0.0\n",
            "Junction    0.0\n",
            "Vehicles    0.0\n",
            "ID          0.0\n",
            "dtype: float64\n"
          ]
        }
      ]
    },
    {
      "cell_type": "code",
      "source": [
        "# Check for duplicate rows\n",
        "duplicate_rows = df_clean.duplicated().sum()\n",
        "\n",
        "# Display the number of duplicate rows\n",
        "print(f\"Number of duplicate rows: {duplicate_rows}\")"
      ],
      "metadata": {
        "colab": {
          "base_uri": "https://localhost:8080/"
        },
        "id": "e9k9eypCm7oZ",
        "outputId": "98e4786a-3a2f-4f48-8365-0a065d2e8e4b"
      },
      "execution_count": null,
      "outputs": [
        {
          "output_type": "stream",
          "name": "stdout",
          "text": [
            "Number of duplicate rows: 0\n"
          ]
        }
      ]
    },
    {
      "cell_type": "code",
      "source": [
        "df_clean.dtypes"
      ],
      "metadata": {
        "colab": {
          "base_uri": "https://localhost:8080/",
          "height": 209
        },
        "id": "PIa52vY_o8bU",
        "outputId": "98c91e33-a3ba-4ed1-8f34-2f44ed92e865"
      },
      "execution_count": null,
      "outputs": [
        {
          "output_type": "execute_result",
          "data": {
            "text/plain": [
              "DateTime    object\n",
              "Junction     int64\n",
              "Vehicles     int64\n",
              "ID           int64\n",
              "dtype: object"
            ],
            "text/html": [
              "<div>\n",
              "<style scoped>\n",
              "    .dataframe tbody tr th:only-of-type {\n",
              "        vertical-align: middle;\n",
              "    }\n",
              "\n",
              "    .dataframe tbody tr th {\n",
              "        vertical-align: top;\n",
              "    }\n",
              "\n",
              "    .dataframe thead th {\n",
              "        text-align: right;\n",
              "    }\n",
              "</style>\n",
              "<table border=\"1\" class=\"dataframe\">\n",
              "  <thead>\n",
              "    <tr style=\"text-align: right;\">\n",
              "      <th></th>\n",
              "      <th>0</th>\n",
              "    </tr>\n",
              "  </thead>\n",
              "  <tbody>\n",
              "    <tr>\n",
              "      <th>DateTime</th>\n",
              "      <td>object</td>\n",
              "    </tr>\n",
              "    <tr>\n",
              "      <th>Junction</th>\n",
              "      <td>int64</td>\n",
              "    </tr>\n",
              "    <tr>\n",
              "      <th>Vehicles</th>\n",
              "      <td>int64</td>\n",
              "    </tr>\n",
              "    <tr>\n",
              "      <th>ID</th>\n",
              "      <td>int64</td>\n",
              "    </tr>\n",
              "  </tbody>\n",
              "</table>\n",
              "</div><br><label><b>dtype:</b> object</label>"
            ]
          },
          "metadata": {},
          "execution_count": 10
        }
      ]
    },
    {
      "cell_type": "code",
      "source": [
        "df_clean['DateTime'] = pd.to_datetime(df_clean['DateTime'])"
      ],
      "metadata": {
        "colab": {
          "base_uri": "https://localhost:8080/"
        },
        "id": "oPI6jRjOpYDt",
        "outputId": "8ea02cb2-ccca-4b11-e549-62ba77dd3f94"
      },
      "execution_count": null,
      "outputs": [
        {
          "output_type": "stream",
          "name": "stderr",
          "text": [
            "/tmp/ipython-input-2559344456.py:1: UserWarning: Could not infer format, so each element will be parsed individually, falling back to `dateutil`. To ensure parsing is consistent and as-expected, please specify a format.\n",
            "  df_clean['DateTime'] = pd.to_datetime(df_clean['DateTime'])\n"
          ]
        }
      ]
    },
    {
      "cell_type": "code",
      "source": [
        "# Convert 'Junction' to a category for memory efficiency\n",
        "df_clean['Junction'] = df_clean['Junction'].astype('category')"
      ],
      "metadata": {
        "id": "CfKA_uojpmZ3"
      },
      "execution_count": null,
      "outputs": []
    },
    {
      "cell_type": "code",
      "source": [
        "df_clean.dtypes"
      ],
      "metadata": {
        "colab": {
          "base_uri": "https://localhost:8080/",
          "height": 209
        },
        "id": "Swb0BAGyp3-W",
        "outputId": "7c6d0cf1-664b-448a-d042-dfe87273cc9c"
      },
      "execution_count": null,
      "outputs": [
        {
          "output_type": "execute_result",
          "data": {
            "text/plain": [
              "DateTime    datetime64[ns]\n",
              "Junction          category\n",
              "Vehicles             int64\n",
              "ID                   int64\n",
              "dtype: object"
            ],
            "text/html": [
              "<div>\n",
              "<style scoped>\n",
              "    .dataframe tbody tr th:only-of-type {\n",
              "        vertical-align: middle;\n",
              "    }\n",
              "\n",
              "    .dataframe tbody tr th {\n",
              "        vertical-align: top;\n",
              "    }\n",
              "\n",
              "    .dataframe thead th {\n",
              "        text-align: right;\n",
              "    }\n",
              "</style>\n",
              "<table border=\"1\" class=\"dataframe\">\n",
              "  <thead>\n",
              "    <tr style=\"text-align: right;\">\n",
              "      <th></th>\n",
              "      <th>0</th>\n",
              "    </tr>\n",
              "  </thead>\n",
              "  <tbody>\n",
              "    <tr>\n",
              "      <th>DateTime</th>\n",
              "      <td>datetime64[ns]</td>\n",
              "    </tr>\n",
              "    <tr>\n",
              "      <th>Junction</th>\n",
              "      <td>category</td>\n",
              "    </tr>\n",
              "    <tr>\n",
              "      <th>Vehicles</th>\n",
              "      <td>int64</td>\n",
              "    </tr>\n",
              "    <tr>\n",
              "      <th>ID</th>\n",
              "      <td>int64</td>\n",
              "    </tr>\n",
              "  </tbody>\n",
              "</table>\n",
              "</div><br><label><b>dtype:</b> object</label>"
            ]
          },
          "metadata": {},
          "execution_count": 14
        }
      ]
    },
    {
      "cell_type": "markdown",
      "source": [
        "**3. Aggregate Traffic Data**"
      ],
      "metadata": {
        "id": "71Go_LAzqiCn"
      }
    },
    {
      "cell_type": "code",
      "source": [
        "# Set 'DateTime' as the index to enable time-based grouping\n",
        "df_agg = df_clean.set_index('DateTime')"
      ],
      "metadata": {
        "id": "9KW_-X8ap6cD"
      },
      "execution_count": null,
      "outputs": []
    },
    {
      "cell_type": "code",
      "source": [
        "# Group data by each 'Junction' and then aggregate the vehicle counts into hourly sums\n",
        "hourly_traffic = df_agg.groupby('Junction').resample('H')['Vehicles'].sum().reset_index()"
      ],
      "metadata": {
        "colab": {
          "base_uri": "https://localhost:8080/"
        },
        "id": "nWGIk84Iqo46",
        "outputId": "fb749469-7acd-4d68-f611-f7868e55c425"
      },
      "execution_count": null,
      "outputs": [
        {
          "output_type": "stream",
          "name": "stderr",
          "text": [
            "/tmp/ipython-input-3537774641.py:2: FutureWarning: The default of observed=False is deprecated and will be changed to True in a future version of pandas. Pass observed=False to retain current behavior or observed=True to adopt the future default and silence this warning.\n",
            "  hourly_traffic = df_agg.groupby('Junction').resample('H')['Vehicles'].sum().reset_index()\n",
            "/tmp/ipython-input-3537774641.py:2: FutureWarning: 'H' is deprecated and will be removed in a future version, please use 'h' instead.\n",
            "  hourly_traffic = df_agg.groupby('Junction').resample('H')['Vehicles'].sum().reset_index()\n"
          ]
        }
      ]
    },
    {
      "cell_type": "markdown",
      "source": [
        "**4. Preprocess Data (Scaling)**"
      ],
      "metadata": {
        "id": "xoQRUS8LqzJp"
      }
    },
    {
      "cell_type": "code",
      "source": [
        "# This step prepares the data for machine learning models\n",
        "df_processed = hourly_traffic.copy()"
      ],
      "metadata": {
        "id": "Sge5wl_2qsSQ"
      },
      "execution_count": null,
      "outputs": []
    },
    {
      "cell_type": "code",
      "source": [
        "# Standardization (scales data to a mean of 0 and standard deviation of 1)\n",
        "standard_scaler = StandardScaler()\n",
        "df_processed['Vehicles_standardized'] = standard_scaler.fit_transform(df_processed[['Vehicles']])"
      ],
      "metadata": {
        "id": "SCj7Yd8bq-FA"
      },
      "execution_count": null,
      "outputs": []
    },
    {
      "cell_type": "code",
      "source": [
        "print(\"Final Processed Data:\")\n",
        "print(df_processed.head())"
      ],
      "metadata": {
        "colab": {
          "base_uri": "https://localhost:8080/"
        },
        "id": "9zklF_UorZtP",
        "outputId": "11cf6c42-64e7-4ab7-bf1d-5fb6e1a9596e"
      },
      "execution_count": null,
      "outputs": [
        {
          "output_type": "stream",
          "name": "stdout",
          "text": [
            "Final Processed Data:\n",
            "  Junction            DateTime  Vehicles  Vehicles_standardized\n",
            "0        1 2015-01-11 00:00:00        15               0.105143\n",
            "1        1 2015-01-11 01:00:00        13               0.001506\n",
            "2        1 2015-01-11 02:00:00        10              -0.153950\n",
            "3        1 2015-01-11 03:00:00         7              -0.309406\n",
            "4        1 2015-01-11 04:00:00         9              -0.205768\n"
          ]
        }
      ]
    },
    {
      "cell_type": "markdown",
      "source": [
        "**5. Feature Engineering**"
      ],
      "metadata": {
        "id": "I7gflCf6s3p-"
      }
    },
    {
      "cell_type": "code",
      "source": [
        "import matplotlib.pyplot as plt\n",
        "import seaborn as sns\n",
        "from sklearn.ensemble import RandomForestRegressor\n",
        "from sklearn.model_selection import train_test_split"
      ],
      "metadata": {
        "id": "3IW7Sw2jrcqd"
      },
      "execution_count": null,
      "outputs": []
    },
    {
      "cell_type": "code",
      "source": [
        "df_features = df_processed.copy()"
      ],
      "metadata": {
        "id": "6zwVIf8kswVf"
      },
      "execution_count": null,
      "outputs": []
    },
    {
      "cell_type": "code",
      "source": [
        "# First, ensure the 'DateTime' column is in the correct datetime format\n",
        "df_features['DateTime'] = pd.to_datetime(df_features['DateTime'])\n",
        "\n",
        "# Now, set the 'DateTime' column as the DataFrame's index\n",
        "df_features.set_index('DateTime', inplace=True)"
      ],
      "metadata": {
        "id": "1JLWNRU8t8cT"
      },
      "execution_count": null,
      "outputs": []
    },
    {
      "cell_type": "code",
      "source": [
        "df_features['Hour'] = df_features.index.hour\n",
        "df_features['DayOfWeek'] = df_features.index.dayofweek  # Monday=0, Sunday=6\n",
        "df_features['Month'] = df_features.index.month\n",
        "df_features['DayOfYear'] = df_features.index.dayofyear\n",
        "print(\"✔️ Added time-based features (Hour, DayOfWeek, etc.).\")"
      ],
      "metadata": {
        "colab": {
          "base_uri": "https://localhost:8080/"
        },
        "id": "DH7vCi7YtCAL",
        "outputId": "bb189536-5092-40f2-c884-b2c4bc3c9e9c"
      },
      "execution_count": null,
      "outputs": [
        {
          "output_type": "stream",
          "name": "stdout",
          "text": [
            "✔️ Added time-based features (Hour, DayOfWeek, etc.).\n"
          ]
        }
      ]
    },
    {
      "cell_type": "code",
      "source": [
        "# We add traffic data from previous time steps.\n",
        "# Important: We group by 'Junction' to ensure lags are junction-specific.\n",
        "df_features['Lag_1_Hour'] = df_features.groupby('Junction')['Vehicles'].shift(1)\n",
        "df_features['Lag_24_Hours'] = df_features.groupby('Junction')['Vehicles'].shift(24) # Same time yesterday\n",
        "print(\"✔️ Added lag features (previous hour's traffic, etc.).\")"
      ],
      "metadata": {
        "colab": {
          "base_uri": "https://localhost:8080/"
        },
        "id": "3LMoq97dtFy4",
        "outputId": "d45387e1-5a48-4cbd-d080-f277795b2b8b"
      },
      "execution_count": null,
      "outputs": [
        {
          "output_type": "stream",
          "name": "stdout",
          "text": [
            "✔️ Added lag features (previous hour's traffic, etc.).\n"
          ]
        },
        {
          "output_type": "stream",
          "name": "stderr",
          "text": [
            "/tmp/ipython-input-1497212549.py:3: FutureWarning: The default of observed=False is deprecated and will be changed to True in a future version of pandas. Pass observed=False to retain current behavior or observed=True to adopt the future default and silence this warning.\n",
            "  df_features['Lag_1_Hour'] = df_features.groupby('Junction')['Vehicles'].shift(1)\n",
            "/tmp/ipython-input-1497212549.py:4: FutureWarning: The default of observed=False is deprecated and will be changed to True in a future version of pandas. Pass observed=False to retain current behavior or observed=True to adopt the future default and silence this warning.\n",
            "  df_features['Lag_24_Hours'] = df_features.groupby('Junction')['Vehicles'].shift(24) # Same time yesterday\n"
          ]
        }
      ]
    },
    {
      "cell_type": "code",
      "source": [
        "public_holidays_2025 = [\n",
        "    '2025-01-26',  # Republic Day\n",
        "    '2025-03-14',  # Holi\n",
        "    '2025-08-15',  # Independence Day\n",
        "    '2025-10-02',  # Gandhi Jayanti\n",
        "    '2025-10-20',  # Diwali\n",
        "    '2025-12-25'   # Christmas Day\n",
        "]\n",
        "holiday_dates = pd.to_datetime(public_holidays_2025).date\n",
        "df_features['Is_Weekend'] = (df_features['DayOfWeek'] >= 5).astype(int)\n",
        "df_features['Is_Holiday'] = df_features.index.to_series().dt.date.isin(holiday_dates).astype(int)\n",
        "print(\"✔️ Added binary indicators (Is_Weekend, Is_Holiday).\")"
      ],
      "metadata": {
        "colab": {
          "base_uri": "https://localhost:8080/"
        },
        "id": "ceh-zQ_-uOM1",
        "outputId": "c3ce35d9-90bf-4012-96d3-09417aa54641"
      },
      "execution_count": null,
      "outputs": [
        {
          "output_type": "stream",
          "name": "stdout",
          "text": [
            "✔️ Added binary indicators (Is_Weekend, Is_Holiday).\n"
          ]
        }
      ]
    },
    {
      "cell_type": "code",
      "source": [
        "df_features.dropna(inplace=True)\n",
        "\n",
        "print(\"\\n--- Data with New Features ---\")\n",
        "print(df_features.head())"
      ],
      "metadata": {
        "colab": {
          "base_uri": "https://localhost:8080/"
        },
        "id": "jqbzfThzvqbR",
        "outputId": "b27880fb-73be-4fcb-d23a-2811436ac8fd"
      },
      "execution_count": null,
      "outputs": [
        {
          "output_type": "stream",
          "name": "stdout",
          "text": [
            "\n",
            "--- Data with New Features ---\n",
            "                    Junction  Vehicles  Vehicles_standardized  Hour  \\\n",
            "DateTime                                                              \n",
            "2015-01-12 00:00:00        1        21               0.416054     0   \n",
            "2015-01-12 01:00:00        1        20               0.364236     1   \n",
            "2015-01-12 02:00:00        1        18               0.260599     2   \n",
            "2015-01-12 03:00:00        1        13               0.001506     3   \n",
            "2015-01-12 04:00:00        1        14               0.053324     4   \n",
            "\n",
            "                     DayOfWeek  Month  DayOfYear  Lag_1_Hour  Lag_24_Hours  \\\n",
            "DateTime                                                                     \n",
            "2015-01-12 00:00:00          0      1         12        15.0          15.0   \n",
            "2015-01-12 01:00:00          0      1         12        21.0          13.0   \n",
            "2015-01-12 02:00:00          0      1         12        20.0          10.0   \n",
            "2015-01-12 03:00:00          0      1         12        18.0           7.0   \n",
            "2015-01-12 04:00:00          0      1         12        13.0           9.0   \n",
            "\n",
            "                     Is_Weekend  Is_Holiday  \n",
            "DateTime                                     \n",
            "2015-01-12 00:00:00           0           0  \n",
            "2015-01-12 01:00:00           0           0  \n",
            "2015-01-12 02:00:00           0           0  \n",
            "2015-01-12 03:00:00           0           0  \n",
            "2015-01-12 04:00:00           0           0  \n"
          ]
        }
      ]
    },
    {
      "cell_type": "markdown",
      "source": [
        "**6. Feature Importance and Selection**"
      ],
      "metadata": {
        "id": "azkyU8_lwRfb"
      }
    },
    {
      "cell_type": "code",
      "source": [
        "# Method A: Correlation Analysis\n",
        "# Calculate the correlation of each feature with the target variable 'Vehicles'\n",
        "correlation_matrix = df_features.corr()\n",
        "\n",
        "# Plot a heatmap to visualize the correlations\n",
        "plt.figure(figsize=(12, 8))\n",
        "sns.heatmap(correlation_matrix, annot=True, cmap='viridis', fmt=\".2f\")\n",
        "plt.title('Feature Correlation Matrix')\n",
        "plt.show()\n",
        "\n",
        "# Display the correlation values with the target variable, sorted\n",
        "print(\"--- Correlation with Target (Vehicles) ---\")\n",
        "print(correlation_matrix['Vehicles'].sort_values(ascending=False))"
      ],
      "metadata": {
        "colab": {
          "base_uri": "https://localhost:8080/",
          "height": 1000
        },
        "id": "wxL3wZUnvzeB",
        "outputId": "2d77e3df-471b-41c5-855c-cbefbbc892ab"
      },
      "execution_count": null,
      "outputs": [
        {
          "output_type": "display_data",
          "data": {
            "text/plain": [
              "<Figure size 1200x800 with 2 Axes>"
            ],
            "image/png": "[encoded data removed]"
          },
          "metadata": {}
        },
        {
          "output_type": "stream",
          "name": "stdout",
          "text": [
            "--- Correlation with Target (Vehicles) ---\n",
            "Vehicles_standardized    1.000000\n",
            "Vehicles                 1.000000\n",
            "Lag_1_Hour               0.977049\n",
            "Lag_24_Hours             0.862907\n",
            "Hour                     0.134597\n",
            "DayOfWeek               -0.048789\n",
            "Is_Weekend              -0.056208\n",
            "DayOfYear               -0.066467\n",
            "Month                   -0.067336\n",
            "Junction                -0.381002\n",
            "Is_Holiday                    NaN\n",
            "Name: Vehicles, dtype: float64\n"
          ]
        }
      ]
    },
    {
      "cell_type": "code",
      "source": [
        "# Method B: Tree-Based Model (Random Forest)\n",
        "# This method is more robust as it captures non-linear relationships.\n",
        "# Define your features (X) and target (y)\n",
        "X = df_features.drop(\n",
        "    columns=['Vehicles', 'Vehicles_normalized', 'Vehicles_standardized', 'Junction'],\n",
        "    errors='ignore'\n",
        ")\n",
        "y = df_features['Vehicles']\n",
        "\n",
        "# Now, retrain your model with the corrected X and y\n",
        "model = RandomForestRegressor(n_estimators=100, random_state=42)\n",
        "model.fit(X, y)\n",
        "\n",
        "# Get and display the new, meaningful feature importances\n",
        "importances = model.feature_importances_\n",
        "feature_names = X.columns\n",
        "feature_importance_df = pd.DataFrame({\n",
        "    'Feature': feature_names,\n",
        "    'Importance': importances\n",
        "}).sort_values(by='Importance', ascending=False)\n",
        "\n",
        "print(\"\\n---  Feature Importance from Random Forest ---\")\n",
        "print(feature_importance_df)\n",
        "\n",
        "# Plot the new importances\n",
        "plt.figure(figsize=(10, 6))\n",
        "sns.barplot(x='Importance', y='Feature', data=feature_importance_df)\n",
        "plt.title('Corrected Feature Importance from Random Forest')\n",
        "plt.tight_layout()\n",
        "plt.show()"
      ],
      "metadata": {
        "colab": {
          "base_uri": "https://localhost:8080/",
          "height": 798
        },
        "id": "zS2z_HGCwdch",
        "outputId": "c2e7d94b-16fd-41b8-e5a8-359a4819cfed"
      },
      "execution_count": null,
      "outputs": [
        {
          "output_type": "stream",
          "name": "stdout",
          "text": [
            "\n",
            "--- Corrected Feature Importance from Random Forest ---\n",
            "        Feature  Importance\n",
            "4    Lag_1_Hour    0.958426\n",
            "0          Hour    0.015422\n",
            "3     DayOfYear    0.009777\n",
            "5  Lag_24_Hours    0.009709\n",
            "1     DayOfWeek    0.003634\n",
            "2         Month    0.002409\n",
            "6    Is_Weekend    0.000622\n",
            "7    Is_Holiday    0.000000\n"
          ]
        },
        {
          "output_type": "display_data",
          "data": {
            "text/plain": [
              "<Figure size 1000x600 with 1 Axes>"
            ],
            "image/png": "[encoded data removed]"
          },
          "metadata": {}
        }
      ]
    },
    {
      "cell_type": "code",
      "source": [
        "# Select features with an importance score greater than a threshold (e.g., 0.05)\n",
        "influential_features = feature_importance_df[feature_importance_df['Importance'] > 0.05]['Feature'].tolist()\n",
        "\n",
        "print(f\"\\n--- Selected Features (Importance > 0.05) ---\")\n",
        "print(influential_features)\n",
        "\n",
        "# You can now create a final DataFrame for model training with only these features\n",
        "X_final = df_features[influential_features]"
      ],
      "metadata": {
        "colab": {
          "base_uri": "https://localhost:8080/"
        },
        "id": "_JjPJGT7yMQx",
        "outputId": "186dccbd-01fa-45cd-818d-af1443ba67f3"
      },
      "execution_count": null,
      "outputs": [
        {
          "output_type": "stream",
          "name": "stdout",
          "text": [
            "\n",
            "--- Selected Features (Importance > 0.05) ---\n",
            "['Lag_1_Hour']\n"
          ]
        }
      ]
    },
    {
      "cell_type": "code",
      "source": [],
      "metadata": {
        "id": "OrDCDtQzz2Xb"
      },
      "execution_count": null,
      "outputs": []
    }
  ]
}